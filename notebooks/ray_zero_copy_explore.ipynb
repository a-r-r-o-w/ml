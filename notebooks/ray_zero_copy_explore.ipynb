{
 "cells": [
  {
   "cell_type": "code",
   "execution_count": null,
   "metadata": {
    "colab": {
     "base_uri": "https://localhost:8080/"
    },
    "id": "obA6KM_8AcLE",
    "outputId": "dd46d667-5022-448c-9b5a-b88e706de1c2"
   },
   "outputs": [],
   "source": [
    "!pip install diffusers transformers ray memory_profiler line_profiler accelerate zerocopy"
   ]
  },
  {
   "cell_type": "code",
   "execution_count": null,
   "metadata": {
    "colab": {
     "base_uri": "https://localhost:8080/"
    },
    "id": "gf2Gv4_KRJjm",
    "outputId": "d1758ec1-0c3b-47c6-f559-e73cbd419e5c"
   },
   "outputs": [],
   "source": [
    "%load_ext memory_profiler\n",
    "%load_ext line_profiler"
   ]
  },
  {
   "cell_type": "code",
   "execution_count": 18,
   "metadata": {
    "id": "DB9bAFh_BG0a"
   },
   "outputs": [],
   "source": [
    "import copy\n",
    "import gc\n",
    "import numpy as np\n",
    "import pandas as pd\n",
    "import pickle\n",
    "import ray\n",
    "import time\n",
    "import torch\n",
    "import torch.nn as nn\n",
    "import zerocopy\n",
    "\n",
    "from diffusers import StableDiffusionPipeline\n",
    "from functools import wraps\n",
    "from typing import Dict, List, Tuple"
   ]
  },
  {
   "cell_type": "code",
   "execution_count": 19,
   "metadata": {
    "id": "uMW1ZUiFBzXc"
   },
   "outputs": [],
   "source": [
    "def flush():\n",
    "    gc.collect()\n",
    "    torch.cuda.empty_cache()\n",
    "    torch.cuda.ipc_collect()\n",
    "    with torch.no_grad():\n",
    "        torch.cuda.empty_cache()\n",
    "        torch.cuda.ipc_collect()"
   ]
  },
  {
   "cell_type": "code",
   "execution_count": 20,
   "metadata": {
    "id": "b4EjI-iKkL3h"
   },
   "outputs": [],
   "source": [
    "def extract_tensors(m: torch.nn.Module) -> Tuple[torch.nn.Module, List[Dict]]:\n",
    "    tensors = []\n",
    "    for _, module in m.named_modules():\n",
    "        params = {\n",
    "            name: torch.clone(param).detach().numpy()\n",
    "            for name, param in module.named_parameters(recurse=False)\n",
    "        }\n",
    "        buffers = {\n",
    "            name: torch.clone(buf).detach().numpy()\n",
    "            for name, buf in module.named_buffers(recurse=False)\n",
    "        }\n",
    "        tensors.append({\"params\": params, \"buffers\": buffers})\n",
    "\n",
    "    m_copy = copy.deepcopy(m)\n",
    "    for _, module in m_copy.named_modules():\n",
    "        for name in [name for name, _ in module.named_parameters(recurse=False)] + [\n",
    "            name for name, _ in module.named_buffers(recurse=False)\n",
    "        ]:\n",
    "            setattr(module, name, None)\n",
    "\n",
    "    m_copy.train(False)\n",
    "    return m_copy, tensors\n",
    "\n",
    "\n",
    "def replace_tensors(m: torch.nn.Module, tensors: List[Dict]):\n",
    "    modules = [module for _, module in m.named_modules()]\n",
    "    for module, tensor_dict in zip(modules, tensors):\n",
    "        for name, array in tensor_dict[\"params\"].items():\n",
    "            module.register_parameter(name, torch.nn.Parameter(torch.as_tensor(array)))\n",
    "        for name, array in tensor_dict[\"buffers\"].items():\n",
    "            module.register_buffer(name, torch.as_tensor(array))"
   ]
  },
  {
   "cell_type": "markdown",
   "metadata": {
    "id": "mZbGxRZFBqzI"
   },
   "source": [
    "### Download files"
   ]
  },
  {
   "cell_type": "code",
   "execution_count": 21,
   "metadata": {
    "id": "YFuEZ4s3XMg0"
   },
   "outputs": [],
   "source": [
    "model_id = \"runwayml/stable-diffusion-v1-5\"\n",
    "pickle_id = \"runwayml_stable-diffusion-v1-5.pkl\"\n",
    "torch_id = \"runwayml_stable-diffusion-v1-5.pt\""
   ]
  },
  {
   "cell_type": "code",
   "execution_count": null,
   "metadata": {
    "colab": {
     "base_uri": "https://localhost:8080/",
     "height": 104,
     "referenced_widgets": [
      "335d21961a2344d7a0f89516db7b9cc7",
      "ad752a6a7b5449e088692a48888fb77d",
      "b732d663e3ed45af9386aeca9878f2fb",
      "29d0ec77f0194bee86736ba4131075fe",
      "35730b708c014bd8ba329e175092d5db",
      "dc9e687b8ef84a8c821880cf798f9954",
      "074af7afe1f741b38e5a426244374b31",
      "dc72cca282f8475e820c8b0f3ff51d76",
      "4b34dfa9539c42d88dee4b7646ee9947",
      "6dc7322698f24f13bb6f0d35301c1c2a",
      "fb27e481582b4dd28bcac63fa3b17bcd"
     ]
    },
    "id": "KTC1uiePBG3P",
    "outputId": "34c24e39-6892-49c8-9218-28269ac170cf"
   },
   "outputs": [],
   "source": [
    "pipe = StableDiffusionPipeline.from_pretrained(\n",
    "    model_id, torch_dtype=torch.float16, variant=\"fp16\"\n",
    ").to(\"cuda\")"
   ]
  },
  {
   "cell_type": "code",
   "execution_count": 33,
   "metadata": {
    "colab": {
     "base_uri": "https://localhost:8080/"
    },
    "id": "RLuT870fTpXS",
    "outputId": "4c755414-4cab-4f75-b2d9-ff523ded7c56"
   },
   "outputs": [
    {
     "data": {
      "text/plain": [
       "FrozenDict([('vae', ('diffusers', 'AutoencoderKL')),\n",
       "            ('text_encoder', ('transformers', 'CLIPTextModel')),\n",
       "            ('tokenizer', ('transformers', 'CLIPTokenizer')),\n",
       "            ('unet', ('diffusers', 'UNet2DConditionModel')),\n",
       "            ('scheduler', ('diffusers', 'PNDMScheduler')),\n",
       "            ('safety_checker',\n",
       "             ('stable_diffusion', 'StableDiffusionSafetyChecker')),\n",
       "            ('feature_extractor', ('transformers', 'CLIPImageProcessor')),\n",
       "            ('requires_safety_checker', True),\n",
       "            ('_name_or_path', 'runwayml/stable-diffusion-v1-5')])"
      ]
     },
     "execution_count": 33,
     "metadata": {},
     "output_type": "execute_result"
    }
   ],
   "source": [
    "pipe.config"
   ]
  },
  {
   "cell_type": "code",
   "execution_count": 34,
   "metadata": {
    "colab": {
     "base_uri": "https://localhost:8080/"
    },
    "id": "Zn0hHX_iUyqY",
    "outputId": "5d96b314-1d58-4629-dbd1-d66a45a636e9"
   },
   "outputs": [
    {
     "name": "stdout",
     "output_type": "stream",
     "text": [
      "True\n",
      "True\n",
      "True\n",
      "False\n",
      "False\n",
      "True\n",
      "False\n"
     ]
    }
   ],
   "source": [
    "print(isinstance(pipe.unet, nn.Module))\n",
    "print(isinstance(pipe.vae, nn.Module))\n",
    "print(isinstance(pipe.text_encoder, nn.Module))\n",
    "print(isinstance(pipe.tokenizer, nn.Module))\n",
    "print(isinstance(pipe.scheduler, nn.Module))\n",
    "print(isinstance(pipe.safety_checker, nn.Module))\n",
    "print(isinstance(pipe.feature_extractor, nn.Module))"
   ]
  },
  {
   "cell_type": "code",
   "execution_count": 36,
   "metadata": {
    "colab": {
     "base_uri": "https://localhost:8080/"
    },
    "id": "k7775mf8eTfk",
    "outputId": "a520faeb-e27c-4079-b826-77df72dccef9"
   },
   "outputs": [
    {
     "name": "stdout",
     "output_type": "stream",
     "text": [
      "CPU times: user 2.12 s, sys: 3.36 s, total: 5.49 s\n",
      "Wall time: 10.8 s\n"
     ]
    }
   ],
   "source": [
    "%%time\n",
    "with open(pickle_id, \"wb\") as file:\n",
    "    pickle.dump(pipe, file)"
   ]
  },
  {
   "cell_type": "code",
   "execution_count": 37,
   "metadata": {
    "colab": {
     "base_uri": "https://localhost:8080/"
    },
    "id": "wokW6LPDeln2",
    "outputId": "8c47e8ef-499b-4f75-a5ff-b938a92c0ae4"
   },
   "outputs": [
    {
     "name": "stdout",
     "output_type": "stream",
     "text": [
      "CPU times: user 2.7 s, sys: 2.61 s, total: 5.31 s\n",
      "Wall time: 21.5 s\n"
     ]
    }
   ],
   "source": [
    "%%time\n",
    "torch.save(pipe, torch_id)"
   ]
  },
  {
   "cell_type": "code",
   "execution_count": 38,
   "metadata": {
    "id": "GF9UjW6SeV3c"
   },
   "outputs": [],
   "source": [
    "del pipe"
   ]
  },
  {
   "cell_type": "code",
   "execution_count": 46,
   "metadata": {
    "id": "IK89S1jxVIDU"
   },
   "outputs": [],
   "source": [
    "flush()"
   ]
  },
  {
   "cell_type": "code",
   "execution_count": 47,
   "metadata": {
    "id": "J0lfnM6kgGD-"
   },
   "outputs": [],
   "source": [
    "benchmark_dict = {}"
   ]
  },
  {
   "cell_type": "code",
   "execution_count": 48,
   "metadata": {
    "id": "qvOSH3IrCdBa"
   },
   "outputs": [],
   "source": [
    "def timed(name: str = None):\n",
    "    def outer_wrapper(f):\n",
    "        @wraps(f)\n",
    "        def wrapper(*args, log=False, save_result=False, **kwargs):\n",
    "            global benchmark_dict\n",
    "            t1 = time.time()\n",
    "            ret = f(*args, **kwargs)\n",
    "            t2 = time.time()\n",
    "            if name is not None and save_result:\n",
    "                benchmark_dict[name] = t2 - t1\n",
    "            if log:\n",
    "                print(\n",
    "                    f\"[BENCHMARK] Execution of {f.__name__} took {(t2 - t1):.3f} seconds\"\n",
    "                )\n",
    "            return ret\n",
    "\n",
    "        return wrapper\n",
    "\n",
    "    return outer_wrapper"
   ]
  },
  {
   "cell_type": "code",
   "execution_count": 49,
   "metadata": {
    "id": "dfx9i7rZEbQe"
   },
   "outputs": [],
   "source": [
    "@timed()\n",
    "def sum_example(l: list):\n",
    "    s = 0\n",
    "    for index, x in enumerate(l):\n",
    "        s += index * x\n",
    "    return s"
   ]
  },
  {
   "cell_type": "code",
   "execution_count": 50,
   "metadata": {
    "colab": {
     "base_uri": "https://localhost:8080/"
    },
    "id": "utlst222Ep-L",
    "outputId": "fdb62cf0-d7de-4eb6-dcc2-ce7dae5cb78b"
   },
   "outputs": [
    {
     "name": "stdout",
     "output_type": "stream",
     "text": [
      "[BENCHMARK] Execution of sum_example took 0.000 seconds\n",
      "[BENCHMARK] Execution of sum_example took 0.000 seconds\n",
      "[BENCHMARK] Execution of sum_example took 0.000 seconds\n",
      "[BENCHMARK] Execution of sum_example took 0.000 seconds\n",
      "[BENCHMARK] Execution of sum_example took 0.002 seconds\n",
      "[BENCHMARK] Execution of sum_example took 0.011 seconds\n",
      "[BENCHMARK] Execution of sum_example took 0.279 seconds\n",
      "[BENCHMARK] Execution of sum_example took 1.102 seconds\n",
      "CPU times: user 1.49 s, sys: 211 ms, total: 1.7 s\n",
      "Wall time: 1.7 s\n"
     ]
    }
   ],
   "source": [
    "%%time\n",
    "for i in range(8):\n",
    "    size = 10**i\n",
    "    l = list(range(size))\n",
    "    sum_example(l, log=True)"
   ]
  },
  {
   "cell_type": "markdown",
   "metadata": {
    "id": "9f1t0NCtbX2k"
   },
   "source": [
    "# Benchmarks"
   ]
  },
  {
   "cell_type": "code",
   "execution_count": 60,
   "metadata": {
    "id": "VSmqqY1gCV8Q"
   },
   "outputs": [],
   "source": [
    "@timed(name=None)\n",
    "def do_stable_diffusion_inference(pipe):\n",
    "    prompt = \"a photo of an astronaut riding a horse\"\n",
    "    image = pipe(prompt, num_inference_steps=10).images[0]\n",
    "    return image\n",
    "\n",
    "\n",
    "@timed(name=\"load_model_using_diffusers_pipeline\")\n",
    "def load_model_1(do_inference=True):\n",
    "    pipe = StableDiffusionPipeline.from_pretrained(\n",
    "        model_id, torch_dtype=torch.float16, variant=\"fp16\"\n",
    "    ).to(\"cuda\")\n",
    "\n",
    "    if do_inference:\n",
    "        result = do_stable_diffusion_inference(pipe, log=True)\n",
    "    else:\n",
    "        result = None\n",
    "\n",
    "    del pipe\n",
    "    flush()\n",
    "    return result\n",
    "\n",
    "\n",
    "@timed(name=\"load_model_using_pickle\")\n",
    "def load_model_2(do_inference=True):\n",
    "    with open(pickle_id, \"rb\") as file:\n",
    "        pipe: StableDiffusionPipeline = pickle.load(file).to(\"cuda\")\n",
    "\n",
    "    if do_inference:\n",
    "        result = do_stable_diffusion_inference(pipe, log=True)\n",
    "    else:\n",
    "        result = None\n",
    "\n",
    "    del pipe\n",
    "    flush()\n",
    "    return result\n",
    "\n",
    "\n",
    "@timed(name=\"load_model_using_torch_load_map_cpu\")\n",
    "def load_model_3(do_inference=True):\n",
    "    pipe = torch.load(torch_id, map_location=torch.device(\"cpu\"))\n",
    "\n",
    "    if do_inference:\n",
    "        result = do_stable_diffusion_inference(pipe, log=True)\n",
    "    else:\n",
    "        result = None\n",
    "\n",
    "    del pipe\n",
    "    flush()\n",
    "    return result\n",
    "\n",
    "\n",
    "@timed(name=\"load_model_using_torch_load_map_cuda\")\n",
    "def load_model_4(do_inference=True):\n",
    "    pipe = torch.load(torch_id, map_location=torch.device(\"cuda\"))\n",
    "\n",
    "    if do_inference:\n",
    "        result = do_stable_diffusion_inference(pipe, log=True)\n",
    "    else:\n",
    "        result = None\n",
    "\n",
    "    del pipe\n",
    "    flush()\n",
    "    return result\n",
    "\n",
    "\n",
    "@timed(name=\"load_model_using_torch_load_map_cpu_move_to_cuda\")\n",
    "def load_model_5(do_inference=True):\n",
    "    pipe = torch.load(torch_id, map_location=torch.device(\"cpu\"))\n",
    "    pipe.to(\"cuda\")\n",
    "\n",
    "    if do_inference:\n",
    "        result = do_stable_diffusion_inference(pipe, log=True)\n",
    "    else:\n",
    "        result = None\n",
    "\n",
    "    del pipe\n",
    "    flush()\n",
    "    return result\n",
    "\n",
    "\n",
    "@timed(name=None)\n",
    "def load_model_6(do_inference=True, log=True, save_result=True):\n",
    "    pipe = StableDiffusionPipeline.from_pretrained(\n",
    "        model_id, torch_dtype=torch.float16, variant=\"fp16\"\n",
    "    )\n",
    "    unet_extracted = extract_tensors(pipe.unet)\n",
    "    vae_extracted = extract_tensors(pipe.vae)\n",
    "    text_encoder_extracted = extract_tensors(pipe.text_encoder)\n",
    "    safety_checker_extracted = extract_tensors(pipe.safety_checker)\n",
    "    tokenizer = pipe.tokenizer\n",
    "    scheduler = pipe.scheduler\n",
    "    feature_extractor = pipe.feature_extractor\n",
    "\n",
    "    # pipe_ref, tensors = extract_tensors(pipe) # does not work because StableDiffusionPipeline does not expose common named_modules for all internal models\n",
    "\n",
    "    del pipe\n",
    "    flush()\n",
    "\n",
    "    @timed(name=\"load_model_using_extract_and_replace_tensors\")\n",
    "    def load_model_6_impl():\n",
    "        replace_tensors(*unet_extracted)\n",
    "        replace_tensors(*vae_extracted)\n",
    "        replace_tensors(*text_encoder_extracted)\n",
    "        replace_tensors(*safety_checker_extracted)\n",
    "        # replace_tensors(pipe_ref, tensors)\n",
    "\n",
    "        pipe = StableDiffusionPipeline(\n",
    "            unet=unet_extracted[0],\n",
    "            vae=vae_extracted[0],\n",
    "            text_encoder=text_encoder_extracted[0],\n",
    "            tokenizer=tokenizer,\n",
    "            scheduler=scheduler,\n",
    "            safety_checker=safety_checker_extracted[0],\n",
    "            feature_extractor=feature_extractor,\n",
    "        ).to(\"cuda\")\n",
    "\n",
    "        if do_inference:\n",
    "            result = do_stable_diffusion_inference(pipe, log=True)\n",
    "        else:\n",
    "            result = None\n",
    "\n",
    "        del pipe\n",
    "        flush()\n",
    "\n",
    "        return result\n",
    "\n",
    "    result = load_model_6_impl(log=log, save_result=save_result)\n",
    "\n",
    "    del unet_extracted\n",
    "    del vae_extracted\n",
    "    del text_encoder_extracted\n",
    "    del safety_checker_extracted\n",
    "    del tokenizer\n",
    "    del scheduler\n",
    "    del feature_extractor\n",
    "    flush()\n",
    "\n",
    "    return result\n",
    "\n",
    "\n",
    "@timed(name=None)\n",
    "def load_model_7(do_inference=True, log=True, save_result=True):\n",
    "    ray.init()\n",
    "    pipe = StableDiffusionPipeline.from_pretrained(\n",
    "        model_id, torch_dtype=torch.float16, variant=\"fp16\"\n",
    "    )\n",
    "    unet_ref = ray.put(extract_tensors(pipe.unet))\n",
    "    vae_ref = ray.put(extract_tensors(pipe.vae))\n",
    "    text_encoder_ref = ray.put(extract_tensors(pipe.text_encoder))\n",
    "    safety_checker_ref = ray.put(extract_tensors(pipe.safety_checker))\n",
    "    tokenizer = pipe.tokenizer\n",
    "    scheduler = pipe.scheduler\n",
    "    feature_extractor = pipe.feature_extractor\n",
    "\n",
    "    del pipe\n",
    "    flush()\n",
    "\n",
    "    @timed(name=\"load_model_using_extract_and_replace_tensors_with_ray\")\n",
    "    def load_model_7_impl():\n",
    "        unet_extracted = ray.get(unet_ref)\n",
    "        vae_extracted = ray.get(vae_ref)\n",
    "        text_encoder_extracted = ray.get(text_encoder_ref)\n",
    "        safety_checker_extracted = ray.get(safety_checker_ref)\n",
    "\n",
    "        replace_tensors(*unet_extracted)\n",
    "        replace_tensors(*vae_extracted)\n",
    "        replace_tensors(*text_encoder_extracted)\n",
    "        replace_tensors(*safety_checker_extracted)\n",
    "\n",
    "        pipe = StableDiffusionPipeline(\n",
    "            unet=unet_extracted[0],\n",
    "            vae=vae_extracted[0],\n",
    "            text_encoder=text_encoder_extracted[0],\n",
    "            tokenizer=tokenizer,\n",
    "            scheduler=scheduler,\n",
    "            safety_checker=safety_checker_extracted[0],\n",
    "            feature_extractor=feature_extractor,\n",
    "        ).to(\"cuda\")\n",
    "\n",
    "        if do_inference:\n",
    "            result = do_stable_diffusion_inference(pipe, log=True)\n",
    "        else:\n",
    "            result = None\n",
    "\n",
    "        del pipe\n",
    "        del unet_extracted\n",
    "        del vae_extracted\n",
    "        del text_encoder_extracted\n",
    "        del safety_checker_extracted\n",
    "        flush()\n",
    "\n",
    "        return result\n",
    "\n",
    "    result = load_model_7_impl(log=log, save_result=save_result)\n",
    "\n",
    "    del unet_ref\n",
    "    del vae_ref\n",
    "    del text_encoder_ref\n",
    "    del safety_checker_ref\n",
    "    del tokenizer\n",
    "    del scheduler\n",
    "    del feature_extractor\n",
    "    flush()\n",
    "\n",
    "    ray.shutdown()\n",
    "\n",
    "    return result"
   ]
  },
  {
   "cell_type": "code",
   "execution_count": 52,
   "metadata": {
    "colab": {
     "base_uri": "https://localhost:8080/",
     "height": 177,
     "referenced_widgets": [
      "3a5a8ae34b5e4cc88471d460b7e89dba",
      "e2987813c76246e4b91c389d2ab51f4c",
      "333a0f2e98f949928a03023da8a9ce43",
      "5649679ae3ee4d2c986864d8c2dfec24",
      "185230baf0934c28ac9bcc5cccbd7004",
      "5b87b51296e1481784a877b863cd569a",
      "f42e5a8b495c46629bdc2e25d7d578fe",
      "aaa6d59281e1465bb3a3b05e723a8bfa",
      "55c18e3dca994a3983b9c7c122b838b2",
      "e528d9d1cbe44cb88c8a181a7b6666be",
      "ece44841531a4a36afdebe6ceff68d81"
     ]
    },
    "id": "ue_NLqrKBG5_",
    "outputId": "005fbd82-ed0d-43bd-8cec-753a3d941217"
   },
   "outputs": [
    {
     "data": {
      "application/vnd.jupyter.widget-view+json": {
       "model_id": "3a5a8ae34b5e4cc88471d460b7e89dba",
       "version_major": 2,
       "version_minor": 0
      },
      "text/plain": [
       "Loading pipeline components...:   0%|          | 0/7 [00:00<?, ?it/s]"
      ]
     },
     "metadata": {},
     "output_type": "display_data"
    },
    {
     "name": "stderr",
     "output_type": "stream",
     "text": [
      "`text_config_dict` is provided which will be used to initialize `CLIPTextConfig`. The value `text_config[\"id2label\"]` will be overriden.\n",
      "`text_config_dict` is provided which will be used to initialize `CLIPTextConfig`. The value `text_config[\"bos_token_id\"]` will be overriden.\n",
      "`text_config_dict` is provided which will be used to initialize `CLIPTextConfig`. The value `text_config[\"eos_token_id\"]` will be overriden.\n"
     ]
    },
    {
     "name": "stdout",
     "output_type": "stream",
     "text": [
      "[BENCHMARK] Execution of load_model_1 took 3.993 seconds\n",
      "peak memory: 4436.16 MiB, increment: 1497.08 MiB\n",
      "CPU times: user 3.06 s, sys: 636 ms, total: 3.69 s\n",
      "Wall time: 4.54 s\n"
     ]
    }
   ],
   "source": [
    "%%time\n",
    "%memit load_model_1(do_inference=False, log=True, save_result=True)"
   ]
  },
  {
   "cell_type": "code",
   "execution_count": 53,
   "metadata": {
    "id": "dtJu2GRLdb8r"
   },
   "outputs": [],
   "source": [
    "# %%time\n",
    "# %memit load_model_1(do_inference=True, log=True)"
   ]
  },
  {
   "cell_type": "code",
   "execution_count": 54,
   "metadata": {
    "colab": {
     "base_uri": "https://localhost:8080/"
    },
    "id": "dohOJ3JiBG89",
    "outputId": "28ef2a7d-17d1-48e0-967c-df7ce55fabef"
   },
   "outputs": [
    {
     "name": "stdout",
     "output_type": "stream",
     "text": [
      "[BENCHMARK] Execution of load_model_2 took 14.676 seconds\n",
      "peak memory: 4262.87 MiB, increment: 1314.58 MiB\n",
      "CPU times: user 2.44 s, sys: 3.38 s, total: 5.82 s\n",
      "Wall time: 15.3 s\n"
     ]
    }
   ],
   "source": [
    "%%time\n",
    "%memit load_model_2(do_inference=False, log=True, save_result=True)"
   ]
  },
  {
   "cell_type": "code",
   "execution_count": 55,
   "metadata": {
    "id": "tYvWLy7ZBG_0"
   },
   "outputs": [],
   "source": [
    "# %%time\n",
    "# %memit load_model_2(do_inference=True, log=True)"
   ]
  },
  {
   "cell_type": "code",
   "execution_count": 56,
   "metadata": {
    "colab": {
     "base_uri": "https://localhost:8080/"
    },
    "id": "63GqZxdzivk0",
    "outputId": "22e42271-f9c4-4696-eca1-f5e46477df8d"
   },
   "outputs": [
    {
     "name": "stdout",
     "output_type": "stream",
     "text": [
      "[BENCHMARK] Execution of load_model_3 took 13.048 seconds\n",
      "peak memory: 4161.11 MiB, increment: 1209.73 MiB\n",
      "CPU times: user 1.16 s, sys: 2.81 s, total: 3.97 s\n",
      "Wall time: 13.6 s\n"
     ]
    }
   ],
   "source": [
    "%%time\n",
    "%memit load_model_3(do_inference=False, log=True, save_result=True)"
   ]
  },
  {
   "cell_type": "code",
   "execution_count": 57,
   "metadata": {
    "colab": {
     "base_uri": "https://localhost:8080/"
    },
    "id": "e_TqqPWejYau",
    "outputId": "31078869-6e16-45c4-98c8-9ac7e016d2b3"
   },
   "outputs": [
    {
     "name": "stdout",
     "output_type": "stream",
     "text": [
      "[BENCHMARK] Execution of load_model_4 took 11.066 seconds\n",
      "peak memory: 3009.07 MiB, increment: 56.48 MiB\n",
      "CPU times: user 2.12 s, sys: 2.23 s, total: 4.35 s\n",
      "Wall time: 11.7 s\n"
     ]
    }
   ],
   "source": [
    "%%time\n",
    "%memit load_model_4(do_inference=False, log=True, save_result=True)"
   ]
  },
  {
   "cell_type": "code",
   "execution_count": 58,
   "metadata": {
    "colab": {
     "base_uri": "https://localhost:8080/"
    },
    "id": "SICYMPs7jh12",
    "outputId": "0cef8bae-d721-4c3f-d043-adf9a750b601"
   },
   "outputs": [
    {
     "name": "stdout",
     "output_type": "stream",
     "text": [
      "[BENCHMARK] Execution of load_model_5 took 11.644 seconds\n",
      "peak memory: 4067.66 MiB, increment: 1122.70 MiB\n",
      "CPU times: user 1.88 s, sys: 2.99 s, total: 4.86 s\n",
      "Wall time: 12.2 s\n"
     ]
    }
   ],
   "source": [
    "%%time\n",
    "%memit load_model_5(do_inference=False, log=True, save_result=True)"
   ]
  },
  {
   "cell_type": "code",
   "execution_count": 64,
   "metadata": {
    "colab": {
     "base_uri": "https://localhost:8080/",
     "height": 195,
     "referenced_widgets": [
      "3c4f7242d29b403c9baa09a2d004d58a",
      "7dbe560b1e3848c78ebb7cb6c21e2cb5",
      "787018106973451baaf01c31d1e8e446",
      "51864f00d7a5449ca781ef89f71e3f41",
      "aecb9d1e335f4f258b7beca7fca0adcf",
      "5bec89121c774aa2b0ae4135b20d307a",
      "9bb82c111a18454f8b1b40898a8a365b",
      "d37cbc9253c24c4aa8e77f28d8e92fae",
      "a2210a64d9554cb3a833abce7bb32e3e",
      "d9e1748b76894b119d36b8f10fc8a76d",
      "cd467929110147cba33d1b866d4c658d"
     ]
    },
    "id": "JWyphoJqkdsu",
    "outputId": "86bb55a9-da8a-4f7f-b5d8-dae3544f8709"
   },
   "outputs": [
    {
     "data": {
      "application/vnd.jupyter.widget-view+json": {
       "model_id": "3c4f7242d29b403c9baa09a2d004d58a",
       "version_major": 2,
       "version_minor": 0
      },
      "text/plain": [
       "Loading pipeline components...:   0%|          | 0/7 [00:00<?, ?it/s]"
      ]
     },
     "metadata": {},
     "output_type": "display_data"
    },
    {
     "name": "stderr",
     "output_type": "stream",
     "text": [
      "`text_config_dict` is provided which will be used to initialize `CLIPTextConfig`. The value `text_config[\"id2label\"]` will be overriden.\n",
      "`text_config_dict` is provided which will be used to initialize `CLIPTextConfig`. The value `text_config[\"bos_token_id\"]` will be overriden.\n",
      "`text_config_dict` is provided which will be used to initialize `CLIPTextConfig`. The value `text_config[\"eos_token_id\"]` will be overriden.\n"
     ]
    },
    {
     "name": "stdout",
     "output_type": "stream",
     "text": [
      "[BENCHMARK] Execution of load_model_6_impl took 1.243 seconds\n",
      "[BENCHMARK] Execution of load_model_6 took 16.299 seconds\n",
      "peak memory: 7570.57 MiB, increment: 3870.75 MiB\n",
      "CPU times: user 5.38 s, sys: 4.3 s, total: 9.68 s\n",
      "Wall time: 17 s\n"
     ]
    }
   ],
   "source": [
    "%%time\n",
    "%memit load_model_6(do_inference=False, log=True, save_result=True)"
   ]
  },
  {
   "cell_type": "code",
   "execution_count": 62,
   "metadata": {
    "colab": {
     "base_uri": "https://localhost:8080/",
     "height": 213,
     "referenced_widgets": [
      "333df02fa0ba415ea168bd395ff9600f",
      "6ba6146963e641beb1e3c849395227b0",
      "65eb070b14d8456cac66f34a53b383f9",
      "c8a73f9deb314d9b8194c118b2424020",
      "3f34fd94f62f40d588fb8b022da2a622",
      "0cb31419efc94b968a877f9fa7a4c327",
      "18caace85b8a42139be17e1cdf444b87",
      "3e5ea2c0186e4203af95d63f143af2fa",
      "53a75edf2b554b0bbe879414669f7e2f",
      "7983366eaf184ee7b2a39cc4bc154933",
      "41a099f33eb7435fbe41b90de367a7e5"
     ]
    },
    "id": "wAPeDlYCWfzp",
    "outputId": "3b5f0c2a-fc3d-4b2c-c43f-14525422e990"
   },
   "outputs": [
    {
     "name": "stderr",
     "output_type": "stream",
     "text": [
      "2023-10-31 20:31:05,498\tINFO worker.py:1642 -- Started a local Ray instance.\n"
     ]
    },
    {
     "data": {
      "application/vnd.jupyter.widget-view+json": {
       "model_id": "333df02fa0ba415ea168bd395ff9600f",
       "version_major": 2,
       "version_minor": 0
      },
      "text/plain": [
       "Loading pipeline components...:   0%|          | 0/7 [00:00<?, ?it/s]"
      ]
     },
     "metadata": {},
     "output_type": "display_data"
    },
    {
     "name": "stderr",
     "output_type": "stream",
     "text": [
      "`text_config_dict` is provided which will be used to initialize `CLIPTextConfig`. The value `text_config[\"id2label\"]` will be overriden.\n",
      "`text_config_dict` is provided which will be used to initialize `CLIPTextConfig`. The value `text_config[\"bos_token_id\"]` will be overriden.\n",
      "`text_config_dict` is provided which will be used to initialize `CLIPTextConfig`. The value `text_config[\"eos_token_id\"]` will be overriden.\n"
     ]
    },
    {
     "name": "stdout",
     "output_type": "stream",
     "text": [
      "[BENCHMARK] Execution of load_model_7_impl took 1.527 seconds\n",
      "[BENCHMARK] Execution of load_model_7 took 23.011 seconds\n",
      "peak memory: 7459.48 MiB, increment: 3030.56 MiB\n",
      "CPU times: user 5.46 s, sys: 6.5 s, total: 12 s\n",
      "Wall time: 23.9 s\n"
     ]
    }
   ],
   "source": [
    "%%time\n",
    "%memit load_model_7(do_inference=False, log=True, save_result=True)"
   ]
  },
  {
   "cell_type": "code",
   "execution_count": 68,
   "metadata": {
    "colab": {
     "base_uri": "https://localhost:8080/",
     "height": 269
    },
    "id": "UBkAS32KBHCn",
    "outputId": "96b1d856-aa31-4293-9a30-efa3a5faf091"
   },
   "outputs": [
    {
     "data": {
      "text/html": [
       "\n",
       "  <div id=\"df-ec8b4544-f579-4113-adf3-f0f5d3b806b0\" class=\"colab-df-container\">\n",
       "    <div>\n",
       "<style scoped>\n",
       "    .dataframe tbody tr th:only-of-type {\n",
       "        vertical-align: middle;\n",
       "    }\n",
       "\n",
       "    .dataframe tbody tr th {\n",
       "        vertical-align: top;\n",
       "    }\n",
       "\n",
       "    .dataframe thead th {\n",
       "        text-align: right;\n",
       "    }\n",
       "</style>\n",
       "<table border=\"1\" class=\"dataframe\">\n",
       "  <thead>\n",
       "    <tr style=\"text-align: right;\">\n",
       "      <th></th>\n",
       "      <th>name</th>\n",
       "      <th>time</th>\n",
       "    </tr>\n",
       "  </thead>\n",
       "  <tbody>\n",
       "    <tr>\n",
       "      <th>5</th>\n",
       "      <td>load_model_using_extract_and_replace_tensors</td>\n",
       "      <td>1.243478</td>\n",
       "    </tr>\n",
       "    <tr>\n",
       "      <th>6</th>\n",
       "      <td>load_model_using_extract_and_replace_tensors_with_ray</td>\n",
       "      <td>1.526970</td>\n",
       "    </tr>\n",
       "    <tr>\n",
       "      <th>0</th>\n",
       "      <td>load_model_using_diffusers_pipeline</td>\n",
       "      <td>3.992747</td>\n",
       "    </tr>\n",
       "    <tr>\n",
       "      <th>3</th>\n",
       "      <td>load_model_using_torch_load_map_cuda</td>\n",
       "      <td>11.066344</td>\n",
       "    </tr>\n",
       "    <tr>\n",
       "      <th>4</th>\n",
       "      <td>load_model_using_torch_load_map_cpu_move_to_cuda</td>\n",
       "      <td>11.644324</td>\n",
       "    </tr>\n",
       "    <tr>\n",
       "      <th>2</th>\n",
       "      <td>load_model_using_torch_load_map_cpu</td>\n",
       "      <td>13.047926</td>\n",
       "    </tr>\n",
       "    <tr>\n",
       "      <th>1</th>\n",
       "      <td>load_model_using_pickle</td>\n",
       "      <td>14.675687</td>\n",
       "    </tr>\n",
       "  </tbody>\n",
       "</table>\n",
       "</div>\n",
       "    <div class=\"colab-df-buttons\">\n",
       "\n",
       "  <div class=\"colab-df-container\">\n",
       "    <button class=\"colab-df-convert\" onclick=\"convertToInteractive('df-ec8b4544-f579-4113-adf3-f0f5d3b806b0')\"\n",
       "            title=\"Convert this dataframe to an interactive table.\"\n",
       "            style=\"display:none;\">\n",
       "\n",
       "  <svg xmlns=\"http://www.w3.org/2000/svg\" height=\"24px\" viewBox=\"0 -960 960 960\">\n",
       "    <path d=\"M120-120v-720h720v720H120Zm60-500h600v-160H180v160Zm220 220h160v-160H400v160Zm0 220h160v-160H400v160ZM180-400h160v-160H180v160Zm440 0h160v-160H620v160ZM180-180h160v-160H180v160Zm440 0h160v-160H620v160Z\"/>\n",
       "  </svg>\n",
       "    </button>\n",
       "\n",
       "  <style>\n",
       "    .colab-df-container {\n",
       "      display:flex;\n",
       "      gap: 12px;\n",
       "    }\n",
       "\n",
       "    .colab-df-convert {\n",
       "      background-color: #E8F0FE;\n",
       "      border: none;\n",
       "      border-radius: 50%;\n",
       "      cursor: pointer;\n",
       "      display: none;\n",
       "      fill: #1967D2;\n",
       "      height: 32px;\n",
       "      padding: 0 0 0 0;\n",
       "      width: 32px;\n",
       "    }\n",
       "\n",
       "    .colab-df-convert:hover {\n",
       "      background-color: #E2EBFA;\n",
       "      box-shadow: 0px 1px 2px rgba(60, 64, 67, 0.3), 0px 1px 3px 1px rgba(60, 64, 67, 0.15);\n",
       "      fill: #174EA6;\n",
       "    }\n",
       "\n",
       "    .colab-df-buttons div {\n",
       "      margin-bottom: 4px;\n",
       "    }\n",
       "\n",
       "    [theme=dark] .colab-df-convert {\n",
       "      background-color: #3B4455;\n",
       "      fill: #D2E3FC;\n",
       "    }\n",
       "\n",
       "    [theme=dark] .colab-df-convert:hover {\n",
       "      background-color: #434B5C;\n",
       "      box-shadow: 0px 1px 3px 1px rgba(0, 0, 0, 0.15);\n",
       "      filter: drop-shadow(0px 1px 2px rgba(0, 0, 0, 0.3));\n",
       "      fill: #FFFFFF;\n",
       "    }\n",
       "  </style>\n",
       "\n",
       "    <script>\n",
       "      const buttonEl =\n",
       "        document.querySelector('#df-ec8b4544-f579-4113-adf3-f0f5d3b806b0 button.colab-df-convert');\n",
       "      buttonEl.style.display =\n",
       "        google.colab.kernel.accessAllowed ? 'block' : 'none';\n",
       "\n",
       "      async function convertToInteractive(key) {\n",
       "        const element = document.querySelector('#df-ec8b4544-f579-4113-adf3-f0f5d3b806b0');\n",
       "        const dataTable =\n",
       "          await google.colab.kernel.invokeFunction('convertToInteractive',\n",
       "                                                    [key], {});\n",
       "        if (!dataTable) return;\n",
       "\n",
       "        const docLinkHtml = 'Like what you see? Visit the ' +\n",
       "          '<a target=\"_blank\" href=https://colab.research.google.com/notebooks/data_table.ipynb>data table notebook</a>'\n",
       "          + ' to learn more about interactive tables.';\n",
       "        element.innerHTML = '';\n",
       "        dataTable['output_type'] = 'display_data';\n",
       "        await google.colab.output.renderOutput(dataTable, element);\n",
       "        const docLink = document.createElement('div');\n",
       "        docLink.innerHTML = docLinkHtml;\n",
       "        element.appendChild(docLink);\n",
       "      }\n",
       "    </script>\n",
       "  </div>\n",
       "\n",
       "\n",
       "<div id=\"df-c5326026-5d68-4eec-ac61-fe08a4e292fe\">\n",
       "  <button class=\"colab-df-quickchart\" onclick=\"quickchart('df-c5326026-5d68-4eec-ac61-fe08a4e292fe')\"\n",
       "            title=\"Suggest charts.\"\n",
       "            style=\"display:none;\">\n",
       "\n",
       "<svg xmlns=\"http://www.w3.org/2000/svg\" height=\"24px\"viewBox=\"0 0 24 24\"\n",
       "     width=\"24px\">\n",
       "    <g>\n",
       "        <path d=\"M19 3H5c-1.1 0-2 .9-2 2v14c0 1.1.9 2 2 2h14c1.1 0 2-.9 2-2V5c0-1.1-.9-2-2-2zM9 17H7v-7h2v7zm4 0h-2V7h2v10zm4 0h-2v-4h2v4z\"/>\n",
       "    </g>\n",
       "</svg>\n",
       "  </button>\n",
       "\n",
       "<style>\n",
       "  .colab-df-quickchart {\n",
       "      --bg-color: #E8F0FE;\n",
       "      --fill-color: #1967D2;\n",
       "      --hover-bg-color: #E2EBFA;\n",
       "      --hover-fill-color: #174EA6;\n",
       "      --disabled-fill-color: #AAA;\n",
       "      --disabled-bg-color: #DDD;\n",
       "  }\n",
       "\n",
       "  [theme=dark] .colab-df-quickchart {\n",
       "      --bg-color: #3B4455;\n",
       "      --fill-color: #D2E3FC;\n",
       "      --hover-bg-color: #434B5C;\n",
       "      --hover-fill-color: #FFFFFF;\n",
       "      --disabled-bg-color: #3B4455;\n",
       "      --disabled-fill-color: #666;\n",
       "  }\n",
       "\n",
       "  .colab-df-quickchart {\n",
       "    background-color: var(--bg-color);\n",
       "    border: none;\n",
       "    border-radius: 50%;\n",
       "    cursor: pointer;\n",
       "    display: none;\n",
       "    fill: var(--fill-color);\n",
       "    height: 32px;\n",
       "    padding: 0;\n",
       "    width: 32px;\n",
       "  }\n",
       "\n",
       "  .colab-df-quickchart:hover {\n",
       "    background-color: var(--hover-bg-color);\n",
       "    box-shadow: 0 1px 2px rgba(60, 64, 67, 0.3), 0 1px 3px 1px rgba(60, 64, 67, 0.15);\n",
       "    fill: var(--button-hover-fill-color);\n",
       "  }\n",
       "\n",
       "  .colab-df-quickchart-complete:disabled,\n",
       "  .colab-df-quickchart-complete:disabled:hover {\n",
       "    background-color: var(--disabled-bg-color);\n",
       "    fill: var(--disabled-fill-color);\n",
       "    box-shadow: none;\n",
       "  }\n",
       "\n",
       "  .colab-df-spinner {\n",
       "    border: 2px solid var(--fill-color);\n",
       "    border-color: transparent;\n",
       "    border-bottom-color: var(--fill-color);\n",
       "    animation:\n",
       "      spin 1s steps(1) infinite;\n",
       "  }\n",
       "\n",
       "  @keyframes spin {\n",
       "    0% {\n",
       "      border-color: transparent;\n",
       "      border-bottom-color: var(--fill-color);\n",
       "      border-left-color: var(--fill-color);\n",
       "    }\n",
       "    20% {\n",
       "      border-color: transparent;\n",
       "      border-left-color: var(--fill-color);\n",
       "      border-top-color: var(--fill-color);\n",
       "    }\n",
       "    30% {\n",
       "      border-color: transparent;\n",
       "      border-left-color: var(--fill-color);\n",
       "      border-top-color: var(--fill-color);\n",
       "      border-right-color: var(--fill-color);\n",
       "    }\n",
       "    40% {\n",
       "      border-color: transparent;\n",
       "      border-right-color: var(--fill-color);\n",
       "      border-top-color: var(--fill-color);\n",
       "    }\n",
       "    60% {\n",
       "      border-color: transparent;\n",
       "      border-right-color: var(--fill-color);\n",
       "    }\n",
       "    80% {\n",
       "      border-color: transparent;\n",
       "      border-right-color: var(--fill-color);\n",
       "      border-bottom-color: var(--fill-color);\n",
       "    }\n",
       "    90% {\n",
       "      border-color: transparent;\n",
       "      border-bottom-color: var(--fill-color);\n",
       "    }\n",
       "  }\n",
       "</style>\n",
       "\n",
       "  <script>\n",
       "    async function quickchart(key) {\n",
       "      const quickchartButtonEl =\n",
       "        document.querySelector('#' + key + ' button');\n",
       "      quickchartButtonEl.disabled = true;  // To prevent multiple clicks.\n",
       "      quickchartButtonEl.classList.add('colab-df-spinner');\n",
       "      try {\n",
       "        const charts = await google.colab.kernel.invokeFunction(\n",
       "            'suggestCharts', [key], {});\n",
       "      } catch (error) {\n",
       "        console.error('Error during call to suggestCharts:', error);\n",
       "      }\n",
       "      quickchartButtonEl.classList.remove('colab-df-spinner');\n",
       "      quickchartButtonEl.classList.add('colab-df-quickchart-complete');\n",
       "    }\n",
       "    (() => {\n",
       "      let quickchartButtonEl =\n",
       "        document.querySelector('#df-c5326026-5d68-4eec-ac61-fe08a4e292fe button');\n",
       "      quickchartButtonEl.style.display =\n",
       "        google.colab.kernel.accessAllowed ? 'block' : 'none';\n",
       "    })();\n",
       "  </script>\n",
       "</div>\n",
       "    </div>\n",
       "  </div>\n"
      ],
      "text/plain": [
       "                                                    name       time\n",
       "5           load_model_using_extract_and_replace_tensors   1.243478\n",
       "6  load_model_using_extract_and_replace_tensors_with_ray   1.526970\n",
       "0                    load_model_using_diffusers_pipeline   3.992747\n",
       "3                   load_model_using_torch_load_map_cuda  11.066344\n",
       "4       load_model_using_torch_load_map_cpu_move_to_cuda  11.644324\n",
       "2                    load_model_using_torch_load_map_cpu  13.047926\n",
       "1                                load_model_using_pickle  14.675687"
      ]
     },
     "execution_count": 68,
     "metadata": {},
     "output_type": "execute_result"
    }
   ],
   "source": [
    "df = pd.DataFrame()\n",
    "df[\"name\"] = benchmark_dict.keys()\n",
    "df[\"time\"] = benchmark_dict.values()\n",
    "pd.set_option(\"display.max_colwidth\", None)\n",
    "df.sort_values(by=[\"time\"])"
   ]
  },
  {
   "cell_type": "code",
   "execution_count": null,
   "metadata": {
    "id": "YqwlbH7jjI7y"
   },
   "outputs": [],
   "source": []
  }
 ],
 "metadata": {
  "accelerator": "GPU",
  "colab": {
   "gpuType": "T4",
   "provenance": []
  },
  "kernelspec": {
   "display_name": "Python 3",
   "name": "python3"
  },
  "language_info": {
   "name": "python"
  },
  "widgets": {
   "application/vnd.jupyter.widget-state+json": {
    "074af7afe1f741b38e5a426244374b31": {
     "model_module": "@jupyter-widgets/controls",
     "model_module_version": "1.5.0",
     "model_name": "DescriptionStyleModel",
     "state": {
      "_model_module": "@jupyter-widgets/controls",
      "_model_module_version": "1.5.0",
      "_model_name": "DescriptionStyleModel",
      "_view_count": null,
      "_view_module": "@jupyter-widgets/base",
      "_view_module_version": "1.2.0",
      "_view_name": "StyleView",
      "description_width": ""
     }
    },
    "0cb31419efc94b968a877f9fa7a4c327": {
     "model_module": "@jupyter-widgets/base",
     "model_module_version": "1.2.0",
     "model_name": "LayoutModel",
     "state": {
      "_model_module": "@jupyter-widgets/base",
      "_model_module_version": "1.2.0",
      "_model_name": "LayoutModel",
      "_view_count": null,
      "_view_module": "@jupyter-widgets/base",
      "_view_module_version": "1.2.0",
      "_view_name": "LayoutView",
      "align_content": null,
      "align_items": null,
      "align_self": null,
      "border": null,
      "bottom": null,
      "display": null,
      "flex": null,
      "flex_flow": null,
      "grid_area": null,
      "grid_auto_columns": null,
      "grid_auto_flow": null,
      "grid_auto_rows": null,
      "grid_column": null,
      "grid_gap": null,
      "grid_row": null,
      "grid_template_areas": null,
      "grid_template_columns": null,
      "grid_template_rows": null,
      "height": null,
      "justify_content": null,
      "justify_items": null,
      "left": null,
      "margin": null,
      "max_height": null,
      "max_width": null,
      "min_height": null,
      "min_width": null,
      "object_fit": null,
      "object_position": null,
      "order": null,
      "overflow": null,
      "overflow_x": null,
      "overflow_y": null,
      "padding": null,
      "right": null,
      "top": null,
      "visibility": null,
      "width": null
     }
    },
    "185230baf0934c28ac9bcc5cccbd7004": {
     "model_module": "@jupyter-widgets/base",
     "model_module_version": "1.2.0",
     "model_name": "LayoutModel",
     "state": {
      "_model_module": "@jupyter-widgets/base",
      "_model_module_version": "1.2.0",
      "_model_name": "LayoutModel",
      "_view_count": null,
      "_view_module": "@jupyter-widgets/base",
      "_view_module_version": "1.2.0",
      "_view_name": "LayoutView",
      "align_content": null,
      "align_items": null,
      "align_self": null,
      "border": null,
      "bottom": null,
      "display": null,
      "flex": null,
      "flex_flow": null,
      "grid_area": null,
      "grid_auto_columns": null,
      "grid_auto_flow": null,
      "grid_auto_rows": null,
      "grid_column": null,
      "grid_gap": null,
      "grid_row": null,
      "grid_template_areas": null,
      "grid_template_columns": null,
      "grid_template_rows": null,
      "height": null,
      "justify_content": null,
      "justify_items": null,
      "left": null,
      "margin": null,
      "max_height": null,
      "max_width": null,
      "min_height": null,
      "min_width": null,
      "object_fit": null,
      "object_position": null,
      "order": null,
      "overflow": null,
      "overflow_x": null,
      "overflow_y": null,
      "padding": null,
      "right": null,
      "top": null,
      "visibility": null,
      "width": null
     }
    },
    "18caace85b8a42139be17e1cdf444b87": {
     "model_module": "@jupyter-widgets/controls",
     "model_module_version": "1.5.0",
     "model_name": "DescriptionStyleModel",
     "state": {
      "_model_module": "@jupyter-widgets/controls",
      "_model_module_version": "1.5.0",
      "_model_name": "DescriptionStyleModel",
      "_view_count": null,
      "_view_module": "@jupyter-widgets/base",
      "_view_module_version": "1.2.0",
      "_view_name": "StyleView",
      "description_width": ""
     }
    },
    "29d0ec77f0194bee86736ba4131075fe": {
     "model_module": "@jupyter-widgets/controls",
     "model_module_version": "1.5.0",
     "model_name": "HTMLModel",
     "state": {
      "_dom_classes": [],
      "_model_module": "@jupyter-widgets/controls",
      "_model_module_version": "1.5.0",
      "_model_name": "HTMLModel",
      "_view_count": null,
      "_view_module": "@jupyter-widgets/controls",
      "_view_module_version": "1.5.0",
      "_view_name": "HTMLView",
      "description": "",
      "description_tooltip": null,
      "layout": "IPY_MODEL_6dc7322698f24f13bb6f0d35301c1c2a",
      "placeholder": "​",
      "style": "IPY_MODEL_fb27e481582b4dd28bcac63fa3b17bcd",
      "value": " 7/7 [00:01&lt;00:00,  4.86it/s]"
     }
    },
    "333a0f2e98f949928a03023da8a9ce43": {
     "model_module": "@jupyter-widgets/controls",
     "model_module_version": "1.5.0",
     "model_name": "FloatProgressModel",
     "state": {
      "_dom_classes": [],
      "_model_module": "@jupyter-widgets/controls",
      "_model_module_version": "1.5.0",
      "_model_name": "FloatProgressModel",
      "_view_count": null,
      "_view_module": "@jupyter-widgets/controls",
      "_view_module_version": "1.5.0",
      "_view_name": "ProgressView",
      "bar_style": "success",
      "description": "",
      "description_tooltip": null,
      "layout": "IPY_MODEL_aaa6d59281e1465bb3a3b05e723a8bfa",
      "max": 7,
      "min": 0,
      "orientation": "horizontal",
      "style": "IPY_MODEL_55c18e3dca994a3983b9c7c122b838b2",
      "value": 7
     }
    },
    "333df02fa0ba415ea168bd395ff9600f": {
     "model_module": "@jupyter-widgets/controls",
     "model_module_version": "1.5.0",
     "model_name": "HBoxModel",
     "state": {
      "_dom_classes": [],
      "_model_module": "@jupyter-widgets/controls",
      "_model_module_version": "1.5.0",
      "_model_name": "HBoxModel",
      "_view_count": null,
      "_view_module": "@jupyter-widgets/controls",
      "_view_module_version": "1.5.0",
      "_view_name": "HBoxView",
      "box_style": "",
      "children": [
       "IPY_MODEL_6ba6146963e641beb1e3c849395227b0",
       "IPY_MODEL_65eb070b14d8456cac66f34a53b383f9",
       "IPY_MODEL_c8a73f9deb314d9b8194c118b2424020"
      ],
      "layout": "IPY_MODEL_3f34fd94f62f40d588fb8b022da2a622"
     }
    },
    "335d21961a2344d7a0f89516db7b9cc7": {
     "model_module": "@jupyter-widgets/controls",
     "model_module_version": "1.5.0",
     "model_name": "HBoxModel",
     "state": {
      "_dom_classes": [],
      "_model_module": "@jupyter-widgets/controls",
      "_model_module_version": "1.5.0",
      "_model_name": "HBoxModel",
      "_view_count": null,
      "_view_module": "@jupyter-widgets/controls",
      "_view_module_version": "1.5.0",
      "_view_name": "HBoxView",
      "box_style": "",
      "children": [
       "IPY_MODEL_ad752a6a7b5449e088692a48888fb77d",
       "IPY_MODEL_b732d663e3ed45af9386aeca9878f2fb",
       "IPY_MODEL_29d0ec77f0194bee86736ba4131075fe"
      ],
      "layout": "IPY_MODEL_35730b708c014bd8ba329e175092d5db"
     }
    },
    "35730b708c014bd8ba329e175092d5db": {
     "model_module": "@jupyter-widgets/base",
     "model_module_version": "1.2.0",
     "model_name": "LayoutModel",
     "state": {
      "_model_module": "@jupyter-widgets/base",
      "_model_module_version": "1.2.0",
      "_model_name": "LayoutModel",
      "_view_count": null,
      "_view_module": "@jupyter-widgets/base",
      "_view_module_version": "1.2.0",
      "_view_name": "LayoutView",
      "align_content": null,
      "align_items": null,
      "align_self": null,
      "border": null,
      "bottom": null,
      "display": null,
      "flex": null,
      "flex_flow": null,
      "grid_area": null,
      "grid_auto_columns": null,
      "grid_auto_flow": null,
      "grid_auto_rows": null,
      "grid_column": null,
      "grid_gap": null,
      "grid_row": null,
      "grid_template_areas": null,
      "grid_template_columns": null,
      "grid_template_rows": null,
      "height": null,
      "justify_content": null,
      "justify_items": null,
      "left": null,
      "margin": null,
      "max_height": null,
      "max_width": null,
      "min_height": null,
      "min_width": null,
      "object_fit": null,
      "object_position": null,
      "order": null,
      "overflow": null,
      "overflow_x": null,
      "overflow_y": null,
      "padding": null,
      "right": null,
      "top": null,
      "visibility": null,
      "width": null
     }
    },
    "3a5a8ae34b5e4cc88471d460b7e89dba": {
     "model_module": "@jupyter-widgets/controls",
     "model_module_version": "1.5.0",
     "model_name": "HBoxModel",
     "state": {
      "_dom_classes": [],
      "_model_module": "@jupyter-widgets/controls",
      "_model_module_version": "1.5.0",
      "_model_name": "HBoxModel",
      "_view_count": null,
      "_view_module": "@jupyter-widgets/controls",
      "_view_module_version": "1.5.0",
      "_view_name": "HBoxView",
      "box_style": "",
      "children": [
       "IPY_MODEL_e2987813c76246e4b91c389d2ab51f4c",
       "IPY_MODEL_333a0f2e98f949928a03023da8a9ce43",
       "IPY_MODEL_5649679ae3ee4d2c986864d8c2dfec24"
      ],
      "layout": "IPY_MODEL_185230baf0934c28ac9bcc5cccbd7004"
     }
    },
    "3c4f7242d29b403c9baa09a2d004d58a": {
     "model_module": "@jupyter-widgets/controls",
     "model_module_version": "1.5.0",
     "model_name": "HBoxModel",
     "state": {
      "_dom_classes": [],
      "_model_module": "@jupyter-widgets/controls",
      "_model_module_version": "1.5.0",
      "_model_name": "HBoxModel",
      "_view_count": null,
      "_view_module": "@jupyter-widgets/controls",
      "_view_module_version": "1.5.0",
      "_view_name": "HBoxView",
      "box_style": "",
      "children": [
       "IPY_MODEL_7dbe560b1e3848c78ebb7cb6c21e2cb5",
       "IPY_MODEL_787018106973451baaf01c31d1e8e446",
       "IPY_MODEL_51864f00d7a5449ca781ef89f71e3f41"
      ],
      "layout": "IPY_MODEL_aecb9d1e335f4f258b7beca7fca0adcf"
     }
    },
    "3e5ea2c0186e4203af95d63f143af2fa": {
     "model_module": "@jupyter-widgets/base",
     "model_module_version": "1.2.0",
     "model_name": "LayoutModel",
     "state": {
      "_model_module": "@jupyter-widgets/base",
      "_model_module_version": "1.2.0",
      "_model_name": "LayoutModel",
      "_view_count": null,
      "_view_module": "@jupyter-widgets/base",
      "_view_module_version": "1.2.0",
      "_view_name": "LayoutView",
      "align_content": null,
      "align_items": null,
      "align_self": null,
      "border": null,
      "bottom": null,
      "display": null,
      "flex": null,
      "flex_flow": null,
      "grid_area": null,
      "grid_auto_columns": null,
      "grid_auto_flow": null,
      "grid_auto_rows": null,
      "grid_column": null,
      "grid_gap": null,
      "grid_row": null,
      "grid_template_areas": null,
      "grid_template_columns": null,
      "grid_template_rows": null,
      "height": null,
      "justify_content": null,
      "justify_items": null,
      "left": null,
      "margin": null,
      "max_height": null,
      "max_width": null,
      "min_height": null,
      "min_width": null,
      "object_fit": null,
      "object_position": null,
      "order": null,
      "overflow": null,
      "overflow_x": null,
      "overflow_y": null,
      "padding": null,
      "right": null,
      "top": null,
      "visibility": null,
      "width": null
     }
    },
    "3f34fd94f62f40d588fb8b022da2a622": {
     "model_module": "@jupyter-widgets/base",
     "model_module_version": "1.2.0",
     "model_name": "LayoutModel",
     "state": {
      "_model_module": "@jupyter-widgets/base",
      "_model_module_version": "1.2.0",
      "_model_name": "LayoutModel",
      "_view_count": null,
      "_view_module": "@jupyter-widgets/base",
      "_view_module_version": "1.2.0",
      "_view_name": "LayoutView",
      "align_content": null,
      "align_items": null,
      "align_self": null,
      "border": null,
      "bottom": null,
      "display": null,
      "flex": null,
      "flex_flow": null,
      "grid_area": null,
      "grid_auto_columns": null,
      "grid_auto_flow": null,
      "grid_auto_rows": null,
      "grid_column": null,
      "grid_gap": null,
      "grid_row": null,
      "grid_template_areas": null,
      "grid_template_columns": null,
      "grid_template_rows": null,
      "height": null,
      "justify_content": null,
      "justify_items": null,
      "left": null,
      "margin": null,
      "max_height": null,
      "max_width": null,
      "min_height": null,
      "min_width": null,
      "object_fit": null,
      "object_position": null,
      "order": null,
      "overflow": null,
      "overflow_x": null,
      "overflow_y": null,
      "padding": null,
      "right": null,
      "top": null,
      "visibility": null,
      "width": null
     }
    },
    "41a099f33eb7435fbe41b90de367a7e5": {
     "model_module": "@jupyter-widgets/controls",
     "model_module_version": "1.5.0",
     "model_name": "DescriptionStyleModel",
     "state": {
      "_model_module": "@jupyter-widgets/controls",
      "_model_module_version": "1.5.0",
      "_model_name": "DescriptionStyleModel",
      "_view_count": null,
      "_view_module": "@jupyter-widgets/base",
      "_view_module_version": "1.2.0",
      "_view_name": "StyleView",
      "description_width": ""
     }
    },
    "4b34dfa9539c42d88dee4b7646ee9947": {
     "model_module": "@jupyter-widgets/controls",
     "model_module_version": "1.5.0",
     "model_name": "ProgressStyleModel",
     "state": {
      "_model_module": "@jupyter-widgets/controls",
      "_model_module_version": "1.5.0",
      "_model_name": "ProgressStyleModel",
      "_view_count": null,
      "_view_module": "@jupyter-widgets/base",
      "_view_module_version": "1.2.0",
      "_view_name": "StyleView",
      "bar_color": null,
      "description_width": ""
     }
    },
    "51864f00d7a5449ca781ef89f71e3f41": {
     "model_module": "@jupyter-widgets/controls",
     "model_module_version": "1.5.0",
     "model_name": "HTMLModel",
     "state": {
      "_dom_classes": [],
      "_model_module": "@jupyter-widgets/controls",
      "_model_module_version": "1.5.0",
      "_model_name": "HTMLModel",
      "_view_count": null,
      "_view_module": "@jupyter-widgets/controls",
      "_view_module_version": "1.5.0",
      "_view_name": "HTMLView",
      "description": "",
      "description_tooltip": null,
      "layout": "IPY_MODEL_d9e1748b76894b119d36b8f10fc8a76d",
      "placeholder": "​",
      "style": "IPY_MODEL_cd467929110147cba33d1b866d4c658d",
      "value": " 7/7 [00:02&lt;00:00,  1.98it/s]"
     }
    },
    "53a75edf2b554b0bbe879414669f7e2f": {
     "model_module": "@jupyter-widgets/controls",
     "model_module_version": "1.5.0",
     "model_name": "ProgressStyleModel",
     "state": {
      "_model_module": "@jupyter-widgets/controls",
      "_model_module_version": "1.5.0",
      "_model_name": "ProgressStyleModel",
      "_view_count": null,
      "_view_module": "@jupyter-widgets/base",
      "_view_module_version": "1.2.0",
      "_view_name": "StyleView",
      "bar_color": null,
      "description_width": ""
     }
    },
    "55c18e3dca994a3983b9c7c122b838b2": {
     "model_module": "@jupyter-widgets/controls",
     "model_module_version": "1.5.0",
     "model_name": "ProgressStyleModel",
     "state": {
      "_model_module": "@jupyter-widgets/controls",
      "_model_module_version": "1.5.0",
      "_model_name": "ProgressStyleModel",
      "_view_count": null,
      "_view_module": "@jupyter-widgets/base",
      "_view_module_version": "1.2.0",
      "_view_name": "StyleView",
      "bar_color": null,
      "description_width": ""
     }
    },
    "5649679ae3ee4d2c986864d8c2dfec24": {
     "model_module": "@jupyter-widgets/controls",
     "model_module_version": "1.5.0",
     "model_name": "HTMLModel",
     "state": {
      "_dom_classes": [],
      "_model_module": "@jupyter-widgets/controls",
      "_model_module_version": "1.5.0",
      "_model_name": "HTMLModel",
      "_view_count": null,
      "_view_module": "@jupyter-widgets/controls",
      "_view_module_version": "1.5.0",
      "_view_name": "HTMLView",
      "description": "",
      "description_tooltip": null,
      "layout": "IPY_MODEL_e528d9d1cbe44cb88c8a181a7b6666be",
      "placeholder": "​",
      "style": "IPY_MODEL_ece44841531a4a36afdebe6ceff68d81",
      "value": " 7/7 [00:01&lt;00:00,  4.52it/s]"
     }
    },
    "5b87b51296e1481784a877b863cd569a": {
     "model_module": "@jupyter-widgets/base",
     "model_module_version": "1.2.0",
     "model_name": "LayoutModel",
     "state": {
      "_model_module": "@jupyter-widgets/base",
      "_model_module_version": "1.2.0",
      "_model_name": "LayoutModel",
      "_view_count": null,
      "_view_module": "@jupyter-widgets/base",
      "_view_module_version": "1.2.0",
      "_view_name": "LayoutView",
      "align_content": null,
      "align_items": null,
      "align_self": null,
      "border": null,
      "bottom": null,
      "display": null,
      "flex": null,
      "flex_flow": null,
      "grid_area": null,
      "grid_auto_columns": null,
      "grid_auto_flow": null,
      "grid_auto_rows": null,
      "grid_column": null,
      "grid_gap": null,
      "grid_row": null,
      "grid_template_areas": null,
      "grid_template_columns": null,
      "grid_template_rows": null,
      "height": null,
      "justify_content": null,
      "justify_items": null,
      "left": null,
      "margin": null,
      "max_height": null,
      "max_width": null,
      "min_height": null,
      "min_width": null,
      "object_fit": null,
      "object_position": null,
      "order": null,
      "overflow": null,
      "overflow_x": null,
      "overflow_y": null,
      "padding": null,
      "right": null,
      "top": null,
      "visibility": null,
      "width": null
     }
    },
    "5bec89121c774aa2b0ae4135b20d307a": {
     "model_module": "@jupyter-widgets/base",
     "model_module_version": "1.2.0",
     "model_name": "LayoutModel",
     "state": {
      "_model_module": "@jupyter-widgets/base",
      "_model_module_version": "1.2.0",
      "_model_name": "LayoutModel",
      "_view_count": null,
      "_view_module": "@jupyter-widgets/base",
      "_view_module_version": "1.2.0",
      "_view_name": "LayoutView",
      "align_content": null,
      "align_items": null,
      "align_self": null,
      "border": null,
      "bottom": null,
      "display": null,
      "flex": null,
      "flex_flow": null,
      "grid_area": null,
      "grid_auto_columns": null,
      "grid_auto_flow": null,
      "grid_auto_rows": null,
      "grid_column": null,
      "grid_gap": null,
      "grid_row": null,
      "grid_template_areas": null,
      "grid_template_columns": null,
      "grid_template_rows": null,
      "height": null,
      "justify_content": null,
      "justify_items": null,
      "left": null,
      "margin": null,
      "max_height": null,
      "max_width": null,
      "min_height": null,
      "min_width": null,
      "object_fit": null,
      "object_position": null,
      "order": null,
      "overflow": null,
      "overflow_x": null,
      "overflow_y": null,
      "padding": null,
      "right": null,
      "top": null,
      "visibility": null,
      "width": null
     }
    },
    "65eb070b14d8456cac66f34a53b383f9": {
     "model_module": "@jupyter-widgets/controls",
     "model_module_version": "1.5.0",
     "model_name": "FloatProgressModel",
     "state": {
      "_dom_classes": [],
      "_model_module": "@jupyter-widgets/controls",
      "_model_module_version": "1.5.0",
      "_model_name": "FloatProgressModel",
      "_view_count": null,
      "_view_module": "@jupyter-widgets/controls",
      "_view_module_version": "1.5.0",
      "_view_name": "ProgressView",
      "bar_style": "success",
      "description": "",
      "description_tooltip": null,
      "layout": "IPY_MODEL_3e5ea2c0186e4203af95d63f143af2fa",
      "max": 7,
      "min": 0,
      "orientation": "horizontal",
      "style": "IPY_MODEL_53a75edf2b554b0bbe879414669f7e2f",
      "value": 7
     }
    },
    "6ba6146963e641beb1e3c849395227b0": {
     "model_module": "@jupyter-widgets/controls",
     "model_module_version": "1.5.0",
     "model_name": "HTMLModel",
     "state": {
      "_dom_classes": [],
      "_model_module": "@jupyter-widgets/controls",
      "_model_module_version": "1.5.0",
      "_model_name": "HTMLModel",
      "_view_count": null,
      "_view_module": "@jupyter-widgets/controls",
      "_view_module_version": "1.5.0",
      "_view_name": "HTMLView",
      "description": "",
      "description_tooltip": null,
      "layout": "IPY_MODEL_0cb31419efc94b968a877f9fa7a4c327",
      "placeholder": "​",
      "style": "IPY_MODEL_18caace85b8a42139be17e1cdf444b87",
      "value": "Loading pipeline components...: 100%"
     }
    },
    "6dc7322698f24f13bb6f0d35301c1c2a": {
     "model_module": "@jupyter-widgets/base",
     "model_module_version": "1.2.0",
     "model_name": "LayoutModel",
     "state": {
      "_model_module": "@jupyter-widgets/base",
      "_model_module_version": "1.2.0",
      "_model_name": "LayoutModel",
      "_view_count": null,
      "_view_module": "@jupyter-widgets/base",
      "_view_module_version": "1.2.0",
      "_view_name": "LayoutView",
      "align_content": null,
      "align_items": null,
      "align_self": null,
      "border": null,
      "bottom": null,
      "display": null,
      "flex": null,
      "flex_flow": null,
      "grid_area": null,
      "grid_auto_columns": null,
      "grid_auto_flow": null,
      "grid_auto_rows": null,
      "grid_column": null,
      "grid_gap": null,
      "grid_row": null,
      "grid_template_areas": null,
      "grid_template_columns": null,
      "grid_template_rows": null,
      "height": null,
      "justify_content": null,
      "justify_items": null,
      "left": null,
      "margin": null,
      "max_height": null,
      "max_width": null,
      "min_height": null,
      "min_width": null,
      "object_fit": null,
      "object_position": null,
      "order": null,
      "overflow": null,
      "overflow_x": null,
      "overflow_y": null,
      "padding": null,
      "right": null,
      "top": null,
      "visibility": null,
      "width": null
     }
    },
    "787018106973451baaf01c31d1e8e446": {
     "model_module": "@jupyter-widgets/controls",
     "model_module_version": "1.5.0",
     "model_name": "FloatProgressModel",
     "state": {
      "_dom_classes": [],
      "_model_module": "@jupyter-widgets/controls",
      "_model_module_version": "1.5.0",
      "_model_name": "FloatProgressModel",
      "_view_count": null,
      "_view_module": "@jupyter-widgets/controls",
      "_view_module_version": "1.5.0",
      "_view_name": "ProgressView",
      "bar_style": "success",
      "description": "",
      "description_tooltip": null,
      "layout": "IPY_MODEL_d37cbc9253c24c4aa8e77f28d8e92fae",
      "max": 7,
      "min": 0,
      "orientation": "horizontal",
      "style": "IPY_MODEL_a2210a64d9554cb3a833abce7bb32e3e",
      "value": 7
     }
    },
    "7983366eaf184ee7b2a39cc4bc154933": {
     "model_module": "@jupyter-widgets/base",
     "model_module_version": "1.2.0",
     "model_name": "LayoutModel",
     "state": {
      "_model_module": "@jupyter-widgets/base",
      "_model_module_version": "1.2.0",
      "_model_name": "LayoutModel",
      "_view_count": null,
      "_view_module": "@jupyter-widgets/base",
      "_view_module_version": "1.2.0",
      "_view_name": "LayoutView",
      "align_content": null,
      "align_items": null,
      "align_self": null,
      "border": null,
      "bottom": null,
      "display": null,
      "flex": null,
      "flex_flow": null,
      "grid_area": null,
      "grid_auto_columns": null,
      "grid_auto_flow": null,
      "grid_auto_rows": null,
      "grid_column": null,
      "grid_gap": null,
      "grid_row": null,
      "grid_template_areas": null,
      "grid_template_columns": null,
      "grid_template_rows": null,
      "height": null,
      "justify_content": null,
      "justify_items": null,
      "left": null,
      "margin": null,
      "max_height": null,
      "max_width": null,
      "min_height": null,
      "min_width": null,
      "object_fit": null,
      "object_position": null,
      "order": null,
      "overflow": null,
      "overflow_x": null,
      "overflow_y": null,
      "padding": null,
      "right": null,
      "top": null,
      "visibility": null,
      "width": null
     }
    },
    "7dbe560b1e3848c78ebb7cb6c21e2cb5": {
     "model_module": "@jupyter-widgets/controls",
     "model_module_version": "1.5.0",
     "model_name": "HTMLModel",
     "state": {
      "_dom_classes": [],
      "_model_module": "@jupyter-widgets/controls",
      "_model_module_version": "1.5.0",
      "_model_name": "HTMLModel",
      "_view_count": null,
      "_view_module": "@jupyter-widgets/controls",
      "_view_module_version": "1.5.0",
      "_view_name": "HTMLView",
      "description": "",
      "description_tooltip": null,
      "layout": "IPY_MODEL_5bec89121c774aa2b0ae4135b20d307a",
      "placeholder": "​",
      "style": "IPY_MODEL_9bb82c111a18454f8b1b40898a8a365b",
      "value": "Loading pipeline components...: 100%"
     }
    },
    "9bb82c111a18454f8b1b40898a8a365b": {
     "model_module": "@jupyter-widgets/controls",
     "model_module_version": "1.5.0",
     "model_name": "DescriptionStyleModel",
     "state": {
      "_model_module": "@jupyter-widgets/controls",
      "_model_module_version": "1.5.0",
      "_model_name": "DescriptionStyleModel",
      "_view_count": null,
      "_view_module": "@jupyter-widgets/base",
      "_view_module_version": "1.2.0",
      "_view_name": "StyleView",
      "description_width": ""
     }
    },
    "a2210a64d9554cb3a833abce7bb32e3e": {
     "model_module": "@jupyter-widgets/controls",
     "model_module_version": "1.5.0",
     "model_name": "ProgressStyleModel",
     "state": {
      "_model_module": "@jupyter-widgets/controls",
      "_model_module_version": "1.5.0",
      "_model_name": "ProgressStyleModel",
      "_view_count": null,
      "_view_module": "@jupyter-widgets/base",
      "_view_module_version": "1.2.0",
      "_view_name": "StyleView",
      "bar_color": null,
      "description_width": ""
     }
    },
    "aaa6d59281e1465bb3a3b05e723a8bfa": {
     "model_module": "@jupyter-widgets/base",
     "model_module_version": "1.2.0",
     "model_name": "LayoutModel",
     "state": {
      "_model_module": "@jupyter-widgets/base",
      "_model_module_version": "1.2.0",
      "_model_name": "LayoutModel",
      "_view_count": null,
      "_view_module": "@jupyter-widgets/base",
      "_view_module_version": "1.2.0",
      "_view_name": "LayoutView",
      "align_content": null,
      "align_items": null,
      "align_self": null,
      "border": null,
      "bottom": null,
      "display": null,
      "flex": null,
      "flex_flow": null,
      "grid_area": null,
      "grid_auto_columns": null,
      "grid_auto_flow": null,
      "grid_auto_rows": null,
      "grid_column": null,
      "grid_gap": null,
      "grid_row": null,
      "grid_template_areas": null,
      "grid_template_columns": null,
      "grid_template_rows": null,
      "height": null,
      "justify_content": null,
      "justify_items": null,
      "left": null,
      "margin": null,
      "max_height": null,
      "max_width": null,
      "min_height": null,
      "min_width": null,
      "object_fit": null,
      "object_position": null,
      "order": null,
      "overflow": null,
      "overflow_x": null,
      "overflow_y": null,
      "padding": null,
      "right": null,
      "top": null,
      "visibility": null,
      "width": null
     }
    },
    "ad752a6a7b5449e088692a48888fb77d": {
     "model_module": "@jupyter-widgets/controls",
     "model_module_version": "1.5.0",
     "model_name": "HTMLModel",
     "state": {
      "_dom_classes": [],
      "_model_module": "@jupyter-widgets/controls",
      "_model_module_version": "1.5.0",
      "_model_name": "HTMLModel",
      "_view_count": null,
      "_view_module": "@jupyter-widgets/controls",
      "_view_module_version": "1.5.0",
      "_view_name": "HTMLView",
      "description": "",
      "description_tooltip": null,
      "layout": "IPY_MODEL_dc9e687b8ef84a8c821880cf798f9954",
      "placeholder": "​",
      "style": "IPY_MODEL_074af7afe1f741b38e5a426244374b31",
      "value": "Loading pipeline components...: 100%"
     }
    },
    "aecb9d1e335f4f258b7beca7fca0adcf": {
     "model_module": "@jupyter-widgets/base",
     "model_module_version": "1.2.0",
     "model_name": "LayoutModel",
     "state": {
      "_model_module": "@jupyter-widgets/base",
      "_model_module_version": "1.2.0",
      "_model_name": "LayoutModel",
      "_view_count": null,
      "_view_module": "@jupyter-widgets/base",
      "_view_module_version": "1.2.0",
      "_view_name": "LayoutView",
      "align_content": null,
      "align_items": null,
      "align_self": null,
      "border": null,
      "bottom": null,
      "display": null,
      "flex": null,
      "flex_flow": null,
      "grid_area": null,
      "grid_auto_columns": null,
      "grid_auto_flow": null,
      "grid_auto_rows": null,
      "grid_column": null,
      "grid_gap": null,
      "grid_row": null,
      "grid_template_areas": null,
      "grid_template_columns": null,
      "grid_template_rows": null,
      "height": null,
      "justify_content": null,
      "justify_items": null,
      "left": null,
      "margin": null,
      "max_height": null,
      "max_width": null,
      "min_height": null,
      "min_width": null,
      "object_fit": null,
      "object_position": null,
      "order": null,
      "overflow": null,
      "overflow_x": null,
      "overflow_y": null,
      "padding": null,
      "right": null,
      "top": null,
      "visibility": null,
      "width": null
     }
    },
    "b732d663e3ed45af9386aeca9878f2fb": {
     "model_module": "@jupyter-widgets/controls",
     "model_module_version": "1.5.0",
     "model_name": "FloatProgressModel",
     "state": {
      "_dom_classes": [],
      "_model_module": "@jupyter-widgets/controls",
      "_model_module_version": "1.5.0",
      "_model_name": "FloatProgressModel",
      "_view_count": null,
      "_view_module": "@jupyter-widgets/controls",
      "_view_module_version": "1.5.0",
      "_view_name": "ProgressView",
      "bar_style": "success",
      "description": "",
      "description_tooltip": null,
      "layout": "IPY_MODEL_dc72cca282f8475e820c8b0f3ff51d76",
      "max": 7,
      "min": 0,
      "orientation": "horizontal",
      "style": "IPY_MODEL_4b34dfa9539c42d88dee4b7646ee9947",
      "value": 7
     }
    },
    "c8a73f9deb314d9b8194c118b2424020": {
     "model_module": "@jupyter-widgets/controls",
     "model_module_version": "1.5.0",
     "model_name": "HTMLModel",
     "state": {
      "_dom_classes": [],
      "_model_module": "@jupyter-widgets/controls",
      "_model_module_version": "1.5.0",
      "_model_name": "HTMLModel",
      "_view_count": null,
      "_view_module": "@jupyter-widgets/controls",
      "_view_module_version": "1.5.0",
      "_view_name": "HTMLView",
      "description": "",
      "description_tooltip": null,
      "layout": "IPY_MODEL_7983366eaf184ee7b2a39cc4bc154933",
      "placeholder": "​",
      "style": "IPY_MODEL_41a099f33eb7435fbe41b90de367a7e5",
      "value": " 7/7 [00:01&lt;00:00,  3.83it/s]"
     }
    },
    "cd467929110147cba33d1b866d4c658d": {
     "model_module": "@jupyter-widgets/controls",
     "model_module_version": "1.5.0",
     "model_name": "DescriptionStyleModel",
     "state": {
      "_model_module": "@jupyter-widgets/controls",
      "_model_module_version": "1.5.0",
      "_model_name": "DescriptionStyleModel",
      "_view_count": null,
      "_view_module": "@jupyter-widgets/base",
      "_view_module_version": "1.2.0",
      "_view_name": "StyleView",
      "description_width": ""
     }
    },
    "d37cbc9253c24c4aa8e77f28d8e92fae": {
     "model_module": "@jupyter-widgets/base",
     "model_module_version": "1.2.0",
     "model_name": "LayoutModel",
     "state": {
      "_model_module": "@jupyter-widgets/base",
      "_model_module_version": "1.2.0",
      "_model_name": "LayoutModel",
      "_view_count": null,
      "_view_module": "@jupyter-widgets/base",
      "_view_module_version": "1.2.0",
      "_view_name": "LayoutView",
      "align_content": null,
      "align_items": null,
      "align_self": null,
      "border": null,
      "bottom": null,
      "display": null,
      "flex": null,
      "flex_flow": null,
      "grid_area": null,
      "grid_auto_columns": null,
      "grid_auto_flow": null,
      "grid_auto_rows": null,
      "grid_column": null,
      "grid_gap": null,
      "grid_row": null,
      "grid_template_areas": null,
      "grid_template_columns": null,
      "grid_template_rows": null,
      "height": null,
      "justify_content": null,
      "justify_items": null,
      "left": null,
      "margin": null,
      "max_height": null,
      "max_width": null,
      "min_height": null,
      "min_width": null,
      "object_fit": null,
      "object_position": null,
      "order": null,
      "overflow": null,
      "overflow_x": null,
      "overflow_y": null,
      "padding": null,
      "right": null,
      "top": null,
      "visibility": null,
      "width": null
     }
    },
    "d9e1748b76894b119d36b8f10fc8a76d": {
     "model_module": "@jupyter-widgets/base",
     "model_module_version": "1.2.0",
     "model_name": "LayoutModel",
     "state": {
      "_model_module": "@jupyter-widgets/base",
      "_model_module_version": "1.2.0",
      "_model_name": "LayoutModel",
      "_view_count": null,
      "_view_module": "@jupyter-widgets/base",
      "_view_module_version": "1.2.0",
      "_view_name": "LayoutView",
      "align_content": null,
      "align_items": null,
      "align_self": null,
      "border": null,
      "bottom": null,
      "display": null,
      "flex": null,
      "flex_flow": null,
      "grid_area": null,
      "grid_auto_columns": null,
      "grid_auto_flow": null,
      "grid_auto_rows": null,
      "grid_column": null,
      "grid_gap": null,
      "grid_row": null,
      "grid_template_areas": null,
      "grid_template_columns": null,
      "grid_template_rows": null,
      "height": null,
      "justify_content": null,
      "justify_items": null,
      "left": null,
      "margin": null,
      "max_height": null,
      "max_width": null,
      "min_height": null,
      "min_width": null,
      "object_fit": null,
      "object_position": null,
      "order": null,
      "overflow": null,
      "overflow_x": null,
      "overflow_y": null,
      "padding": null,
      "right": null,
      "top": null,
      "visibility": null,
      "width": null
     }
    },
    "dc72cca282f8475e820c8b0f3ff51d76": {
     "model_module": "@jupyter-widgets/base",
     "model_module_version": "1.2.0",
     "model_name": "LayoutModel",
     "state": {
      "_model_module": "@jupyter-widgets/base",
      "_model_module_version": "1.2.0",
      "_model_name": "LayoutModel",
      "_view_count": null,
      "_view_module": "@jupyter-widgets/base",
      "_view_module_version": "1.2.0",
      "_view_name": "LayoutView",
      "align_content": null,
      "align_items": null,
      "align_self": null,
      "border": null,
      "bottom": null,
      "display": null,
      "flex": null,
      "flex_flow": null,
      "grid_area": null,
      "grid_auto_columns": null,
      "grid_auto_flow": null,
      "grid_auto_rows": null,
      "grid_column": null,
      "grid_gap": null,
      "grid_row": null,
      "grid_template_areas": null,
      "grid_template_columns": null,
      "grid_template_rows": null,
      "height": null,
      "justify_content": null,
      "justify_items": null,
      "left": null,
      "margin": null,
      "max_height": null,
      "max_width": null,
      "min_height": null,
      "min_width": null,
      "object_fit": null,
      "object_position": null,
      "order": null,
      "overflow": null,
      "overflow_x": null,
      "overflow_y": null,
      "padding": null,
      "right": null,
      "top": null,
      "visibility": null,
      "width": null
     }
    },
    "dc9e687b8ef84a8c821880cf798f9954": {
     "model_module": "@jupyter-widgets/base",
     "model_module_version": "1.2.0",
     "model_name": "LayoutModel",
     "state": {
      "_model_module": "@jupyter-widgets/base",
      "_model_module_version": "1.2.0",
      "_model_name": "LayoutModel",
      "_view_count": null,
      "_view_module": "@jupyter-widgets/base",
      "_view_module_version": "1.2.0",
      "_view_name": "LayoutView",
      "align_content": null,
      "align_items": null,
      "align_self": null,
      "border": null,
      "bottom": null,
      "display": null,
      "flex": null,
      "flex_flow": null,
      "grid_area": null,
      "grid_auto_columns": null,
      "grid_auto_flow": null,
      "grid_auto_rows": null,
      "grid_column": null,
      "grid_gap": null,
      "grid_row": null,
      "grid_template_areas": null,
      "grid_template_columns": null,
      "grid_template_rows": null,
      "height": null,
      "justify_content": null,
      "justify_items": null,
      "left": null,
      "margin": null,
      "max_height": null,
      "max_width": null,
      "min_height": null,
      "min_width": null,
      "object_fit": null,
      "object_position": null,
      "order": null,
      "overflow": null,
      "overflow_x": null,
      "overflow_y": null,
      "padding": null,
      "right": null,
      "top": null,
      "visibility": null,
      "width": null
     }
    },
    "e2987813c76246e4b91c389d2ab51f4c": {
     "model_module": "@jupyter-widgets/controls",
     "model_module_version": "1.5.0",
     "model_name": "HTMLModel",
     "state": {
      "_dom_classes": [],
      "_model_module": "@jupyter-widgets/controls",
      "_model_module_version": "1.5.0",
      "_model_name": "HTMLModel",
      "_view_count": null,
      "_view_module": "@jupyter-widgets/controls",
      "_view_module_version": "1.5.0",
      "_view_name": "HTMLView",
      "description": "",
      "description_tooltip": null,
      "layout": "IPY_MODEL_5b87b51296e1481784a877b863cd569a",
      "placeholder": "​",
      "style": "IPY_MODEL_f42e5a8b495c46629bdc2e25d7d578fe",
      "value": "Loading pipeline components...: 100%"
     }
    },
    "e528d9d1cbe44cb88c8a181a7b6666be": {
     "model_module": "@jupyter-widgets/base",
     "model_module_version": "1.2.0",
     "model_name": "LayoutModel",
     "state": {
      "_model_module": "@jupyter-widgets/base",
      "_model_module_version": "1.2.0",
      "_model_name": "LayoutModel",
      "_view_count": null,
      "_view_module": "@jupyter-widgets/base",
      "_view_module_version": "1.2.0",
      "_view_name": "LayoutView",
      "align_content": null,
      "align_items": null,
      "align_self": null,
      "border": null,
      "bottom": null,
      "display": null,
      "flex": null,
      "flex_flow": null,
      "grid_area": null,
      "grid_auto_columns": null,
      "grid_auto_flow": null,
      "grid_auto_rows": null,
      "grid_column": null,
      "grid_gap": null,
      "grid_row": null,
      "grid_template_areas": null,
      "grid_template_columns": null,
      "grid_template_rows": null,
      "height": null,
      "justify_content": null,
      "justify_items": null,
      "left": null,
      "margin": null,
      "max_height": null,
      "max_width": null,
      "min_height": null,
      "min_width": null,
      "object_fit": null,
      "object_position": null,
      "order": null,
      "overflow": null,
      "overflow_x": null,
      "overflow_y": null,
      "padding": null,
      "right": null,
      "top": null,
      "visibility": null,
      "width": null
     }
    },
    "ece44841531a4a36afdebe6ceff68d81": {
     "model_module": "@jupyter-widgets/controls",
     "model_module_version": "1.5.0",
     "model_name": "DescriptionStyleModel",
     "state": {
      "_model_module": "@jupyter-widgets/controls",
      "_model_module_version": "1.5.0",
      "_model_name": "DescriptionStyleModel",
      "_view_count": null,
      "_view_module": "@jupyter-widgets/base",
      "_view_module_version": "1.2.0",
      "_view_name": "StyleView",
      "description_width": ""
     }
    },
    "f42e5a8b495c46629bdc2e25d7d578fe": {
     "model_module": "@jupyter-widgets/controls",
     "model_module_version": "1.5.0",
     "model_name": "DescriptionStyleModel",
     "state": {
      "_model_module": "@jupyter-widgets/controls",
      "_model_module_version": "1.5.0",
      "_model_name": "DescriptionStyleModel",
      "_view_count": null,
      "_view_module": "@jupyter-widgets/base",
      "_view_module_version": "1.2.0",
      "_view_name": "StyleView",
      "description_width": ""
     }
    },
    "fb27e481582b4dd28bcac63fa3b17bcd": {
     "model_module": "@jupyter-widgets/controls",
     "model_module_version": "1.5.0",
     "model_name": "DescriptionStyleModel",
     "state": {
      "_model_module": "@jupyter-widgets/controls",
      "_model_module_version": "1.5.0",
      "_model_name": "DescriptionStyleModel",
      "_view_count": null,
      "_view_module": "@jupyter-widgets/base",
      "_view_module_version": "1.2.0",
      "_view_name": "StyleView",
      "description_width": ""
     }
    }
   }
  }
 },
 "nbformat": 4,
 "nbformat_minor": 0
}
